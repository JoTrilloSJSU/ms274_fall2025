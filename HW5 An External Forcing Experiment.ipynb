{
 "cells": [
  {
   "cell_type": "markdown",
   "id": "ae587e5d-ad7d-42ad-9ca7-d064e2ef5f2f",
   "metadata": {},
   "source": [
    "# Homework 5: An External Forcing Experiment\n",
    "\n",
    "Name: \n",
    "\n",
    "Date: \n",
    "\n",
    "#### Overview\n",
    "In class, we set up the MITgcm `global_ocean_ebm` configuration with the `exf` package to run on MITgcm. In this assignment, we will assess the output of this model configuration. \n",
    "\n",
    "To begin, import the Python modules for manging and plotting data, and making movies. Then, define a path to your homework 5 directory. Finally, the `diags` folder on Spartan to your local machine."
   ]
  },
  {
   "cell_type": "code",
   "execution_count": 2,
   "id": "c40951a4-0774-4933-93c5-f480fb9e54a9",
   "metadata": {},
   "outputs": [],
   "source": [
    "import os\n",
    "import numpy as np\n",
    "import matplotlib.pyplot as plt\n",
    "import cmocean.cm as cm\n",
    "import moviepy.video.io.ImageSequenceClip"
   ]
  },
  {
   "cell_type": "code",
   "execution_count": 4,
   "id": "5911e2ec-f953-4595-8e60-a67def995059",
   "metadata": {},
   "outputs": [],
   "source": [
    "diags_dir = 'diags/'"
   ]
  },
  {
   "cell_type": "markdown",
   "id": "45a0908f-c425-472a-9e3b-7ae0985fb41b",
   "metadata": {},
   "source": [
    "### Part 1: Choose Variables to Examine \n",
    "In this assignment, you'll investigate the relationship between a state variable (temperature, salinity, or velocity) and an associated forcing variable (heat flux, freshwater flux, or wind stress). \n",
    "\n",
    "In the markdown cell below, indicate which pair of variables you're going to investigate."
   ]
  },
  {
   "cell_type": "markdown",
   "id": "34234ea7",
   "metadata": {},
   "source": [
    "I plan to investigate heat flux and salinity"
   ]
  },
  {
   "attachments": {},
   "cell_type": "markdown",
   "id": "a90fbe58-d6af-47ca-8bb8-e13c18fa51ef",
   "metadata": {},
   "source": [
    "### Part 2: Make a Movie\n",
    "Next, make a movie for your variables of interest. The movie should show your state variable in one panel and your forcing variable in another panel. If you are using velocity and wind stress, you can either plot the magnitude of these variables or plot the vector components individually."
   ]
  },
  {
   "cell_type": "code",
   "execution_count": 9,
   "id": "f2c7f787-cc51-41f4-b1dd-77546e10df6c",
   "metadata": {},
   "outputs": [],
   "source": [
    "def plot_frame(EXF_data_path, surf_data_path, image_path):\n",
    "    # make a figure object\n",
    "    \n",
    "    fig = plt.figure(figsize=(15,8))\n",
    "    plt.subplot(1,2,1)\n",
    "    # plot the field\n",
    "    EXF_grid = np.fromfile(EXF_data_path, '>f4').reshape(4,40, 90)\n",
    "    heatflux = EXF_grid[2, :, :]\n",
    "\n",
    "    # plot the uvel field\n",
    "    plt.pcolormesh(heatflux, cmap='seismic', vmin = -200, vmax = 200)\n",
    "    \n",
    "    # add a colorbar\n",
    "    plt.colorbar(label = 'W/m^2')\n",
    "    # read in the data\n",
    "    \n",
    "    # format the axes\n",
    "    plt.ylabel('Model Rows')\n",
    "    plt.xlabel('Model Cols')\n",
    "    plt.title('Qnet')\n",
    "  \n",
    "    \n",
    "    plt.subplot(1,2,2)\n",
    "    # plot the field\n",
    "    surf_grid = np.fromfile(surf_data_path, '>f4').reshape(2,40, 90)\n",
    "    salt = surf_grid[1, :, :]\n",
    "\n",
    "    # plot the uvel field\n",
    "    plt.pcolormesh(salt, cmap='seismic', vmin = 31, vmax = 37)\n",
    "    \n",
    "    # add a colorbar\n",
    "    plt.colorbar(label = 'psu')\n",
    "    \n",
    "    # format the axes\n",
    "    plt.ylabel('Model Rows')\n",
    "    plt.xlabel('Model Cols')\n",
    "    plt.title('Salinity')\n",
    "\n",
    "    \n",
    "    plt.tight_layout()\n",
    "    plt.savefig(image_path)\n",
    "    plt.close(fig)\n",
    "   "
   ]
  },
  {
   "cell_type": "code",
   "execution_count": 11,
   "id": "f4082c54-955f-439e-90db-483bcbb03ec8",
   "metadata": {},
   "outputs": [],
   "source": [
    "file_list = []\n",
    "\n",
    "for day in range(10, 630,20):  \n",
    "    # build file paths\n",
    "    EXF_data_path = os.path.join(diags_dir,'diagsEXF', 'diagsEXF.'+'{:010d}'.format(day)+'.data')\n",
    "    image_path = os.path.join(diags_dir, 'Plots', 'frames', 'frames.'+'{:010d}'.format(day)+'.png')\n",
    "    surf_data_path = os.path.join(diags_dir, 'diagSURF', 'diagSURF.'+'{:010d}'.format(day)+'.data')\n",
    "\n",
    "    # append image path\n",
    "    plot_frame(EXF_data_path, surf_data_path, image_path)\n",
    "\n",
    "    # Add to file list for video\n",
    "    file_list.append(image_path)\n",
    "\n",
    "# set frames per second for video\n",
    "fps = 5\n"
   ]
  },
  {
   "cell_type": "code",
   "execution_count": 13,
   "id": "55b77597-be8e-49c2-a954-7d38d3d99bf9",
   "metadata": {},
   "outputs": [
    {
     "name": "stdout",
     "output_type": "stream",
     "text": [
      "Moviepy - Building video diags/salinity_heatflux_movie.mp4.\n",
      "Moviepy - Writing video diags/salinity_heatflux_movie.mp4\n",
      "\n"
     ]
    },
    {
     "name": "stderr",
     "output_type": "stream",
     "text": [
      "                                                            "
     ]
    },
    {
     "name": "stdout",
     "output_type": "stream",
     "text": [
      "Moviepy - Done !\n",
      "Moviepy - video ready diags/salinity_heatflux_movie.mp4\n"
     ]
    }
   ],
   "source": [
    "\n",
    "# use the ImageSequenceClip module to set up the clip\n",
    "clip = moviepy.video.io.ImageSequenceClip.ImageSequenceClip(file_list, fps=fps)\n",
    "\n",
    "# write the video to a file\n",
    "output_file = os.path.join(diags_dir, 'salinity_heatflux_movie.mp4')\n",
    "clip.write_videofile(output_file)"
   ]
  },
  {
   "cell_type": "markdown",
   "id": "dd9fec3d-b74b-4b64-97da-996c795a994d",
   "metadata": {},
   "source": [
    "Change in heat flux is strongly linked to seasonality with an oscilllation between summer and winter in the northern and southern hemisphere. Salinity, is linked to heat flux as solar radiation leads to evaporation, which can increase the salt content of the water. Despite this, salinity does not exhibit as strong of a seasonality. In my video there appears to be a change in the longitudtinal gradient of salinity while heat flux changes most sharply in the latitudinal direction."
   ]
  },
  {
   "cell_type": "markdown",
   "id": "50e7fbe2-b90b-48bb-8d81-7b85daf090de",
   "metadata": {},
   "source": [
    "*Edit this markdown cell and enter your observations here*"
   ]
  },
  {
   "cell_type": "markdown",
   "id": "2dcc0f5b",
   "metadata": {},
   "source": [
    "### Part 3: Plot Time Series at a Location\n",
    "Based on your movie, choose an interesting place in your model domain and create a timeseries of your variables at this location. There should be two plots - either as two horizontal subplots (one for each variable), or one plot with two separate y-axes for the different variables.\n",
    "\n",
    "Again you are using velocity and wind stress, you can either plot the magnitude of these variables or plot the vector components individually."
   ]
  },
  {
   "cell_type": "code",
   "execution_count": 18,
   "id": "a736e5e0-0203-4110-93c3-d476abb547a2",
   "metadata": {},
   "outputs": [],
   "source": [
    "delX = 4\n",
    "delY = 4\n",
    "xgOrigin = -80\n",
    "ygOrigin = 0\n",
    "n_rows = 40\n",
    "n_cols = 90\n",
    "\n",
    "# recreate the grids that will be used in the model\n",
    "xc = np.arange(xgOrigin+delX/2, xgOrigin+n_cols*delX, delX)\n",
    "yc = np.arange(ygOrigin+delY/2, ygOrigin+n_rows*delY, delY)\n",
    "XC, YC = np.meshgrid(xc, yc)"
   ]
  },
  {
   "cell_type": "code",
   "execution_count": 19,
   "id": "3d8505fb-a39c-492e-aa81-0250ef71823d",
   "metadata": {},
   "outputs": [],
   "source": [
    "# read in the XC and YC fields\n",
    "XC_file = 'XC.data'\n",
    "XC_grid = np.fromfile(XC_file, '>f4').reshape((n_rows, n_cols))\n",
    "YC_file ='YC.data'\n",
    "YC_grid = np.fromfile(YC_file, '>f4').reshape((n_rows, n_cols))"
   ]
  },
  {
   "cell_type": "code",
   "execution_count": 20,
   "id": "abc9f1bd-d7a0-4c0d-949a-f5df4231edee",
   "metadata": {},
   "outputs": [],
   "source": [
    "# define the lon/lat point\n",
    "lon = 291\n",
    "lat = 37\n",
    "\n",
    "# find its location in the grid\n",
    "dist = ((XC -lon)**2 + (YC -lat)**2)**0.5\n",
    "#row, col = np.where(dist==np.min(dist))\n",
    "row,col = (32,78)"
   ]
  },
  {
   "cell_type": "code",
   "execution_count": 21,
   "id": "faf0e4a7-59e2-4dfe-9c92-a73f858ce2f2",
   "metadata": {},
   "outputs": [
    {
     "name": "stdout",
     "output_type": "stream",
     "text": [
      "Day 10: Qnet = 210.9583282470703, Salt = 34.37187957763672\n",
      "Day 30: Qnet = 216.59263610839844, Salt = 34.289859771728516\n",
      "Day 50: Qnet = 203.4853515625, Salt = 34.195613861083984\n",
      "Day 70: Qnet = 189.39166259765625, Salt = 34.05235290527344\n",
      "Day 90: Qnet = 175.29795837402344, Salt = 34.09358215332031\n",
      "Day 110: Qnet = 139.45738220214844, Salt = 34.07793045043945\n",
      "Day 130: Qnet = 102.47223663330078, Salt = 34.00464630126953\n",
      "Day 150: Qnet = 65.4870834350586, Salt = 33.93727111816406\n",
      "Day 170: Qnet = 26.471120834350586, Salt = 33.871028900146484\n",
      "Day 190: Qnet = -12.651724815368652, Salt = 33.87171173095703\n",
      "Day 210: Qnet = -51.77457046508789, Salt = 33.82612228393555\n",
      "Day 230: Qnet = -74.33821105957031, Salt = 33.77234649658203\n",
      "Day 250: Qnet = -95.06193542480469, Salt = 33.73113250732422\n",
      "Day 270: Qnet = -115.7856674194336, Salt = 33.71560287475586\n",
      "Day 290: Qnet = -131.07125854492188, Salt = 33.706546783447266\n",
      "Day 310: Qnet = -145.39715576171875, Salt = 33.68181228637695\n",
      "Day 330: Qnet = -159.7230682373047, Salt = 33.65064239501953\n",
      "Day 350: Qnet = -166.58834838867188, Salt = 33.62559127807617\n",
      "Day 370: Qnet = -171.58847045898438, Salt = 33.61279296875\n",
      "Day 390: Qnet = -176.58859252929688, Salt = 33.593299865722656\n",
      "Day 410: Qnet = -164.8253631591797, Salt = 33.56391525268555\n",
      "Day 430: Qnet = -147.47434997558594, Salt = 33.53896713256836\n",
      "Day 450: Qnet = -130.1233367919922, Salt = 33.519317626953125\n",
      "Day 470: Qnet = -102.20368957519531, Salt = 33.51410675048828\n",
      "Day 490: Qnet = -68.59323120117188, Salt = 33.50542449951172\n",
      "Day 510: Qnet = -34.98277282714844, Salt = 33.5018196105957\n",
      "Day 530: Qnet = -2.688399314880371, Salt = 33.50062942504883\n",
      "Day 550: Qnet = 28.728588104248047, Salt = 33.5045051574707\n",
      "Day 570: Qnet = 60.145572662353516, Salt = 33.514156341552734\n",
      "Day 590: Qnet = 83.71561431884766, Salt = 33.52070617675781\n",
      "Day 610: Qnet = 100.86541748046875, Salt = 33.530784606933594\n",
      "Day 610: Qnet = 100.86541748046875, Salt = 33.530784606933594\n"
     ]
    },
    {
     "data": {
      "image/png": "[encoded data removed]",
      "text/plain": [
       "<Figure size 1500x800 with 2 Axes>"
      ]
     },
     "metadata": {},
     "output_type": "display_data"
    }
   ],
   "source": [
    "# make an empty array\n",
    "heatflux_timeseries = []\n",
    "salt_timeseries = []\n",
    "for day in range(10,630,20):    \n",
    "    # identify the data file path\n",
    "    EXF_data_path = os.path.join(diags_dir,'diagsEXF', 'diagsEXF.'+'{:010d}'.format(day)+'.data')\n",
    "    EXF_grid = np.fromfile(EXF_data_path, '>f4').reshape(4,40, 90)\n",
    "    heatflux = EXF_grid[2, :, :]\n",
    "    surf_data_path = os.path.join(diags_dir, 'diagSURF', 'diagSURF.'+'{:010d}'.format(day)+'.data')\n",
    "    surf_grid = np.fromfile(surf_data_path, '>f4').reshape(2,40, 90)\n",
    "    salt = surf_grid[1,:,:]\n",
    "    print(f\"Day {day}: Qnet = {heatflux[row, col]}, Salt = {salt[row, col]}\")\n",
    "    heatflux_timeseries.append(heatflux[row, col])\n",
    "    salt_timeseries.append(salt[row, col])\n",
    "\n",
    "days = list(range(10, 630, 20))\n",
    "heatflux_timeseries = np.array(heatflux_timeseries)\n",
    "salt_timeseries = np.array(salt_timeseries)\n",
    "\n",
    "fig = plt.figure(figsize=(15,8))\n",
    "plt.subplot(1,2,1)\n",
    "plt.title('Qnet')\n",
    "plt.plot(days, heatflux_timeseries, 'k-')\n",
    "plt.subplot(1,2,2)\n",
    "plt.plot(salt_timeseries)  \n",
    "plt.title('Salinity')\n",
    "\n",
    "print(f\"Day {day}: Qnet = {heatflux[row, col]}, Salt = {salt[row, col]}\")"
   ]
  },
  {
   "cell_type": "markdown",
   "id": "c645a3d3-161b-4a26-a899-62345386dad9",
   "metadata": {},
   "source": [
    "Comment on any features you observe in your timeseries. Place particular focus on the potential connection(s) between your state variable and the forcing. Is there anything you observe in your timeseries that you didn't catch by eye in your movie?"
   ]
  },
  {
   "cell_type": "markdown",
   "id": "ffdfdf66",
   "metadata": {},
   "source": [
    "The point I chose is just north of the coast of Maine. This timeseries might suggests that qnet and salinity are positively correlated, possibly with some delay in the response of salinity. Although higer gnet leads to increased evaportation and higher salinities, this doesnt seem realistic to me since I wouldn't expect this lag when looking at these longer timescales? Additionally, Maine is pretty far north glacial melting might act as a nonsignificant source of fresh water in the summer, which doesnt seem to be reflected here."
   ]
  },
  {
   "cell_type": "code",
   "execution_count": null,
   "id": "ce181fa5-0d96-49fe-aa02-2a46c35e9496",
   "metadata": {},
   "outputs": [],
   "source": []
  },
  {
   "cell_type": "code",
   "execution_count": null,
   "id": "c848d551-c459-4478-adfd-ff109ae98ed1",
   "metadata": {},
   "outputs": [],
   "source": []
  }
 ],
 "metadata": {
  "kernelspec": {
   "display_name": "ms274",
   "language": "python",
   "name": "ms274"
  },
  "language_info": {
   "codemirror_mode": {
    "name": "ipython",
    "version": 3
   },
   "file_extension": ".py",
   "mimetype": "text/x-python",
   "name": "python",
   "nbconvert_exporter": "python",
   "pygments_lexer": "ipython3",
   "version": "3.12.11"
  }
 },
 "nbformat": 4,
 "nbformat_minor": 5
}
